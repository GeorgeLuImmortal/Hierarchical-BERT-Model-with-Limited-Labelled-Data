{
 "cells": [
  {
   "cell_type": "code",
   "execution_count": 90,
   "metadata": {},
   "outputs": [],
   "source": [
    "import pandas as pd\n",
    "import numpy as np\n",
    "np.random.seed(2019)\n",
    "\n",
    "import html\n",
    "import random\n",
    "random.seed(2019)\n",
    "\n",
    "from IPython.core.display import display, HTML\n",
    "from nltk.tokenize import word_tokenize,sent_tokenize\n",
    "from sklearn.utils import shuffle\n",
    "\n",
    "import os\n",
    "os.environ['PYTHONHASHSEED'] = str(2019)\n",
    "\n",
    "from nltk.corpus import words\n",
    "import torch\n",
    "torch.manual_seed(2019)\n",
    "torch.cuda.manual_seed_all(2019)\n",
    "torch.backends.cudnn.benchmark = False\n",
    "torch.backends.cudnn.deterministic = True\n",
    "\n",
    "\n",
    "# OPTIONAL: if you want to have more information on what's happening under the hood, activate the logger as follows\n",
    "import logging\n",
    "logging.basicConfig(level=logging.INFO)\n",
    "\n",
    "from operator import add\n",
    "\n",
    "import re\n",
    "import string\n",
    "\n",
    "from nltk import sent_tokenize\n",
    "\n",
    "# from pytorch_transformers import BertTokenizer, BertModel, BertForMaskedLM\n",
    "from numpy import genfromtxt\n",
    "from tqdm import tqdm_notebook, trange\n",
    "from transformers import *\n",
    "from sklearn.model_selection import train_test_split\n",
    "import operator\n",
    "\n",
    "\n",
    "\n",
    "tokenizer = RobertaTokenizer.from_pretrained('roberta-base')"
   ]
  },
  {
   "cell_type": "markdown",
   "metadata": {},
   "source": [
    "## Basic functions"
   ]
  },
  {
   "cell_type": "code",
   "execution_count": 91,
   "metadata": {},
   "outputs": [],
   "source": [
    "def read_data(path):\n",
    "\n",
    "    corpora = []\n",
    "    for filename in os.listdir(path):\n",
    "\n",
    "        df_temp = pd.read_csv(path+filename, encoding='iso-8859-1')\n",
    "\n",
    "        corpora.append(df_temp.text.tolist())\n",
    "\n",
    "    class_one_len = len(corpora[0])\n",
    "    class_two_len = len(corpora[1])\n",
    "\n",
    "    return corpora, class_one_len, class_two_len\n",
    "\n",
    "\n",
    "## split a document into sentences\n",
    "def sentences_segmentation(corpora,tokenizer,min_token=0):\n",
    "    segmented_documents = []\n",
    "    iterator = tqdm_notebook(corpora, desc=\"Iteration\")\n",
    "    for idx,document in enumerate(iterator):\n",
    "    # for i in tqdm(range(len(corpora))):\n",
    "\n",
    "        segmented_document = []\n",
    "        seg_document = sent_tokenize(document)\n",
    "\n",
    "        ## remove sentences that are too short, the tokenized sentences should larger than min_token, otherwise are dropped\n",
    "        for sentence in seg_document:\n",
    "            tokenized_sentence = tokenizer.tokenize(sentence)\n",
    "            if len(tokenized_sentence)>min_token:\n",
    "                temp_sentence = tokenizer.convert_tokens_to_string(tokenized_sentence)\n",
    "                ## if a whole sentence consists of punctations, it will be dropped\n",
    "                if not all([j.isdigit() or j in string.punctuation for j in temp_sentence]):\n",
    "                    segmented_document.append(temp_sentence)\n",
    "            \n",
    "        segmented_documents.append(segmented_document)\n",
    "    \n",
    "    return segmented_documents\n",
    "\n",
    "# Prevent special characters like & and < to cause the browser to display something other than what you intended.\n",
    "def html_escape(text):\n",
    "    return html.escape(text)"
   ]
  },
  {
   "cell_type": "markdown",
   "metadata": {},
   "source": [
    "## Import text data and split them into sentences"
   ]
  },
  {
   "cell_type": "code",
   "execution_count": 92,
   "metadata": {},
   "outputs": [
    {
     "name": "stderr",
     "output_type": "stream",
     "text": [
      "C:\\Users\\jh\\Anaconda3\\lib\\site-packages\\ipykernel_launcher.py:19: TqdmDeprecationWarning: This function will be removed in tqdm==5.0.0\n",
      "Please use `tqdm.notebook.tqdm` instead of `tqdm.tqdm_notebook`\n"
     ]
    },
    {
     "data": {
      "application/vnd.jupyter.widget-view+json": {
       "model_id": "476732a271e44ae8867438f3b07c0863",
       "version_major": 2,
       "version_minor": 0
      },
      "text/plain": [
       "Iteration:   0%|          | 0/2000 [00:00<?, ?it/s]"
      ]
     },
     "metadata": {},
     "output_type": "display_data"
    }
   ],
   "source": [
    "paths = ['longer_moviereview']\n",
    "\n",
    "\n",
    "corpora, class_one_len, class_two_len = read_data('raw_corpora/'+paths[0]+'/')\n",
    "\n",
    "all_corpus = corpora[0]+corpora[1]\n",
    "\n",
    "segmented_documents = sentences_segmentation(all_corpus,tokenizer)"
   ]
  },
  {
   "cell_type": "code",
   "execution_count": 93,
   "metadata": {},
   "outputs": [
    {
     "name": "stdout",
     "output_type": "stream",
     "text": [
      "num of document in class one:  1000\n",
      "num of document in class two:  1000\n",
      "The length of longest document 118\n",
      "Avg length of document 33.9665\n"
     ]
    }
   ],
   "source": [
    "print('num of document in class one: ',class_one_len)\n",
    "print('num of document in class two: ',class_two_len)\n",
    "\n",
    "## lenghts of documents\n",
    "lengths = []\n",
    "for doc in segmented_documents:\n",
    "    lengths.append(len(doc))\n",
    "\n",
    "print('The length of longest document', np.max(lengths))\n",
    "print('Avg length of document', np.mean(lengths))"
   ]
  },
  {
   "cell_type": "markdown",
   "metadata": {},
   "source": [
    "## Visualise the document lengths distributions"
   ]
  },
  {
   "cell_type": "code",
   "execution_count": 94,
   "metadata": {},
   "outputs": [
    {
     "data": {
      "text/plain": [
       "Text(0, 0.5, 'num of documents')"
      ]
     },
     "execution_count": 94,
     "metadata": {},
     "output_type": "execute_result"
    },
    {
     "data": {
      "image/png": "[encoded data removed]",
      "text/plain": [
       "<Figure size 720x720 with 1 Axes>"
      ]
     },
     "metadata": {},
     "output_type": "display_data"
    }
   ],
   "source": [
    "import matplotlib.pyplot as plt\n",
    "%matplotlib inline\n",
    "plt.rcParams.update({'font.size': 20})\n",
    "\n",
    "plt.figure(figsize=(10,10))\n",
    "n, bins,patchs = plt.hist(lengths, 50, facecolor='g', alpha=0.75)\n",
    "plt.xlabel('num of sentence in a document')\n",
    "plt.ylabel('num of documents')"
   ]
  },
  {
   "cell_type": "markdown",
   "metadata": {},
   "source": [
    "## Print one splited document"
   ]
  },
  {
   "cell_type": "code",
   "execution_count": 95,
   "metadata": {},
   "outputs": [
    {
     "data": {
      "text/plain": [
       "[' plot : two teen couples go to a church party , drink and then drive .',\n",
       " 'they get into an accident .',\n",
       " 'one of the guys dies , but his girlfriend continues to see him in her life , and has nightmares .',\n",
       " \"what's the deal ?\",\n",
       " 'watch the movie and \" sorta \" find out .',\n",
       " 'critique : a mind-fuck movie for the teen generation that touches on a very cool idea , but presents it in a very bad package .',\n",
       " \"which is what makes this review an even harder one to write , since i generally applaud films which attempt to break the mold , mess with your head and such ( lost highway & memento ) , but there are good and bad ways of making all types of films , and these folks just didn't snag this one correctly .\",\n",
       " 'they seem to have taken this pretty neat concept , but executed it terribly .',\n",
       " 'so what are the problems with the movie ?',\n",
       " \"well , its main problem is that it's simply too jumbled .\",\n",
       " 'it starts off \" normal \" but then downshifts into this \" fantasy \" world in which you , as an audience member , have no idea what\\'s going on .',\n",
       " 'there are dreams , there are characters coming back from the dead , there are others who look like the dead , there are strange apparitions , there are disappearances , there are a looooot of chase scenes , there are tons of weird things that happen , and most of it is simply not explained .',\n",
       " \"now i personally don't mind trying to unravel a film every now and then , but when all it does is give me the same clue over and over again , i get kind of fed up after a while , which is this film's biggest problem .\",\n",
       " \"it's obviously got this big secret to hide , but it seems to want to hide it completely until its final five minutes .\",\n",
       " 'and do they make things entertaining , thrilling or even engaging , in the meantime ?',\n",
       " 'not really .',\n",
       " \"the sad part is that the arrow and i both dig on flicks like this , so we actually figured most of it out by the half-way point , so all of the strangeness after that did start to make a little bit of sense , but it still didn't the make the film all that more entertaining .\",\n",
       " 'i guess the bottom line with movies like this is that you should always make sure that the audience is \" into it \" even before they are given the secret password to enter your world of understanding .',\n",
       " 'i mean , showing melissa sagemiller running away from visions for about minutes throughout the movie is just plain lazy !',\n",
       " 'okay , we get it .',\n",
       " \"there are people chasing her and we don't know who they are .\",\n",
       " 'do we really need to see it over and over again ?',\n",
       " 'how about giving us different scenes offering further insight into all of the strangeness going down in the movie ?',\n",
       " 'apparently , the studio took this film away from its director and chopped it up themselves , and it shows .',\n",
       " 'there might\\'ve been a pretty decent teen mind-fuck movie in here somewhere , but i guess \" the suits \" decided that turning it into a music video with little edge , would make more sense .',\n",
       " 'the actors are pretty good for the most part , although wes bentley just seemed to be playing the exact same character that he did in american beauty , only in a new neighborhood .',\n",
       " \"but my biggest kudos go out to sagemiller , who holds her own throughout the entire film , and actually has you feeling her character's unraveling .\",\n",
       " \"overall , the film doesn't stick because it doesn't entertain , it's confusing , it rarely excites and it feels pretty redundant for most of its runtime , despite a pretty cool ending and explanation to all of the craziness that came before it .\",\n",
       " 'oh , and by the way , this is not a horror or teen slasher flick .',\n",
       " \"it's just packaged to look that way because someone is apparently assuming that the genre is still hot with the kids .\",\n",
       " 'it also wrapped production two years ago and has been sitting on the shelves ever since .',\n",
       " 'whatever .',\n",
       " 'skip it !',\n",
       " \"where's joblo coming from ?\",\n",
       " 'a nightmare of elm street ( / ) - blair witch ( / ) - the crow ( / ) - the crow : salvation ( / ) - lost highway ( / ) - memento ( / ) - the others ( / ) - stir of echoes ( / )']"
      ]
     },
     "execution_count": 95,
     "metadata": {},
     "output_type": "execute_result"
    }
   ],
   "source": [
    "segmented_documents[0]"
   ]
  },
  {
   "cell_type": "markdown",
   "metadata": {},
   "source": [
    "## Visualise informative sentences"
   ]
  },
  {
   "cell_type": "code",
   "execution_count": 110,
   "metadata": {},
   "outputs": [],
   "source": [
    "seed = 1989\n",
    "epoch = 29\n",
    "training_size =50\n",
    "doc_idx=0\n",
    "## hyperparameters of HBM: the maximum lenghth of document HBM can take\n",
    "max_len = 118\n",
    "cut_off = 0.5\n",
    "\n",
    "attention_scores = torch.load('./attentions/%s/epoch%s_seed%s_size%s.pt'%(paths[0],epoch,seed,training_size))\n",
    "LABEL_emb = np.array([0]*class_one_len+[1]*class_two_len)"
   ]
  },
  {
   "cell_type": "code",
   "execution_count": 111,
   "metadata": {},
   "outputs": [
    {
     "data": {
      "text/plain": [
       "torch.Size([1800, 1, 118, 118])"
      ]
     },
     "execution_count": 111,
     "metadata": {},
     "output_type": "execute_result"
    }
   ],
   "source": [
    "attention_scores.shape"
   ]
  },
  {
   "cell_type": "code",
   "execution_count": 112,
   "metadata": {},
   "outputs": [
    {
     "name": "stderr",
     "output_type": "stream",
     "text": [
      "C:\\Users\\jh\\Anaconda3\\lib\\site-packages\\ipykernel_launcher.py:7: VisibleDeprecationWarning: Creating an ndarray from ragged nested sequences (which is a list-or-tuple of lists-or-tuples-or ndarrays with different lengths or shapes) is deprecated. If you meant to do this, you must specify 'dtype=object' when creating the ndarray\n",
      "  import sys\n"
     ]
    }
   ],
   "source": [
    "## using the same randomisation as in the training HBM\n",
    "index_shuffle = shuffle([i for i in range(len(all_corpus))], random_state=seed)\n",
    "\n",
    "## get index of the testing documents\n",
    "test_shuffle = index_shuffle[200:]\n",
    "\n",
    "test_segmented_documents = list(np.array(segmented_documents)[test_shuffle])\n",
    "test_label = LABEL_emb[test_shuffle]\n",
    "text_len = min(max_len,len(test_segmented_documents[doc_idx]))"
   ]
  },
  {
   "cell_type": "code",
   "execution_count": 113,
   "metadata": {},
   "outputs": [
    {
     "name": "stderr",
     "output_type": "stream",
     "text": [
      "C:\\Users\\jh\\Anaconda3\\lib\\site-packages\\ipykernel_launcher.py:1: UserWarning: To copy construct from a tensor, it is recommended to use sourceTensor.clone().detach() or sourceTensor.clone().detach().requires_grad_(True), rather than torch.tensor(sourceTensor).\n",
      "  \"\"\"Entry point for launching an IPython kernel.\n"
     ]
    }
   ],
   "source": [
    "doc_attention_score = torch.tensor(attention_scores[doc_idx])\n",
    "\n",
    "accum_attention_score = doc_attention_score[0].sum(axis=0)"
   ]
  },
  {
   "cell_type": "code",
   "execution_count": 114,
   "metadata": {},
   "outputs": [],
   "source": [
    "weights = {}\n",
    "max_weight = max(accum_attention_score)\n",
    "for idx,attention in enumerate(accum_attention_score[:text_len]):\n",
    "    weights[idx]=float(attention)"
   ]
  },
  {
   "cell_type": "code",
   "execution_count": 115,
   "metadata": {},
   "outputs": [],
   "source": [
    "max_alpha = max(weights.values()) \n",
    "highlighted_text = []\n",
    "# length = min(len(weights),len(segmented_documents[doc_idx]))\n",
    "\n",
    "for idx in range(text_len):\n",
    "    weight = weights[idx]\n",
    "    text = test_segmented_documents[doc_idx][idx]\n",
    "    if weight/max_weight>cut_off:\n",
    "        highlighted_text.append('<span style=\"background-color:rgba(135,206,290,' + str(weight/max_alpha) + ');\">' + html_escape(text) + '</span>')\n",
    "    else:\n",
    "        highlighted_text.append(text)\n",
    "highlighted_text = ' '.join(highlighted_text)\n",
    "#highlighted_text"
   ]
  },
  {
   "cell_type": "code",
   "execution_count": 116,
   "metadata": {
    "scrolled": false
   },
   "outputs": [
    {
     "name": "stdout",
     "output_type": "stream",
     "text": [
      "1\n"
     ]
    },
    {
     "data": {
      "text/html": [
       " let's say you live at the end of an airport runway . large jetliners continuously pass over your house , rattling your windows and allowing few moments of peace . let's say the ground beneath your feet is also contaminated with toxic substances , and high voltage power lines run across steel towers only yards from your home . now let's say an airport conglomerate wants to buy your property in order to lengthen the runway , and offers you more than it's worth . wouldn't you jump in the air and have your bags packed before you landed ? of course you would . but what if this bit of land was your idea of paradise , and the house your castle ? that's what they are to darryl kerrigan ( michael caton ) , and although he's happy that a multi-national corporation would like to buy his home , sorry , it's not for sale . unfortunately , the corporation wields quite a bit of influence over the australian government , which serves darryl and his family with what amounts to an eviction notice . not about to take this lying down , darryl enlists the help of his inept attorney friend dennis denuto ( tiriel mora ) and makes a determined , albeit pathetic , attempt to fight back . the castle , an australian comedy by rob sitch , is perhaps one of the simplest movies i've seen in recent memory , yet also one of the funniest . <span style=\"background-color:rgba(135,206,290,0.6065904795228344);\">in fact , it is this film&#x27;s reliance on simplicity which makes it so successful .</span> <span style=\"background-color:rgba(135,206,290,0.5766707138958627);\">the good guys and the bad guys are clear , the humor is straightforward , and the storyline is as uncomplicated as it gets .</span> <span style=\"background-color:rgba(135,206,290,1.0);\">it&#x27;s the perfect setup for a relaxing , hilarious good time , and as much as i hate to admit it , i liked the fact that i didn&#x27;t have to think all that much while watching this film .</span> i just sat back and enjoyed myself . the situation is one we've seen before : regular joe fights back against the government , or big business , or whatever . what makes this film different is its characters . darryl thinks he's got the best life in the world - he tells his family that living next to power lines is a constant reminder of the success of mankind , he asks who would ever want to go out and eat in a fancy restaurant when he's got the meat loaf feast prepared by his wife sal ( anne tenny ) , and he swells with pride when his son dale ( stephen curry ) digs a hole in the yard . steve kerrigan ( anthony simcoe ) constantly combs the buy and sell ads looking for \" investments \" like jousting sticks and overhead projectors , while wayne kerrigan is in jail , as a result of dennis denuto's incompetent courtroom maneuvers . the great thing about the kerrigans is that they aren't so stupid that they get annoying . they're just a group of simpletons whose naive nature is perfectly harmless and even endearing . we look upon them with a little bit of pity , but a whole lot of affection . screenwriters sitch , santo cilauro , tom gleisner , and jane kennedy pit this lovable bunch of unlikely crusaders against a stoic court system and a condescending business conglomerate , further polarizing the extremes and deepening our feelings for the kerrigans . sympathy for their situation , the laughter they bring us , and the family's wonderful characterization , simple as it may be , leaves us with a degree of emotional investment that causes us to actually care about what happens to them . i suppose one might wonder how deep characterization can go when your characters are as inane as the kerrigans , but trust me , it works . i particularly noted that the writers did not have to use slapstick in order to get laughs . don't get me wrong - slapstick , when executed well , can be genius . it's just that too often , a film will resort to it's use as a shortcut to amusing the audience , not always successfully . instead , the jokes in the castle are all hinged upon the dialog uttered by these people who have no idea that they are totally skewed to the rest of the world . when they are by themselves , the are funny , and when they are with normal people , they are hilarious . one of the few problems i saw with this film was a detour taken about midway though . the kerrigans go out to a vacation spot for seemingly no reason other than to pack in a few more jokes and increase the film's running time . <span style=\"background-color:rgba(135,206,290,0.5456718540676284);\">luckily , it&#x27;s a funny little detour that , while slightly distracting from the film&#x27;s main drive , is still quite enjoyable .</span> with all the levity abound in the castle , the film still manages to take on a pretty heavy concept , that of the innate right of a citizen to keep his property , an issue which has been bandied about in courts across the civilized world with differing outcomes . i'm not certain the courtroom monologue near the end of the film would actually hold up in real life , but it brings to the forefront the essence of the constitution ( of australia ) and certainly sounds impressive at any rate . <span style=\"background-color:rgba(135,206,290,0.8123683484472048);\">and , for that matter , it&#x27;s more than i would have expected out of a light hearted film like this .</span>"
      ],
      "text/plain": [
       "<IPython.core.display.HTML object>"
      ]
     },
     "metadata": {},
     "output_type": "display_data"
    }
   ],
   "source": [
    "print(test_label[doc_idx])\n",
    "display(HTML(highlighted_text))"
   ]
  },
  {
   "cell_type": "code",
   "execution_count": null,
   "metadata": {},
   "outputs": [],
   "source": []
  },
  {
   "cell_type": "code",
   "execution_count": null,
   "metadata": {},
   "outputs": [],
   "source": []
  },
  {
   "cell_type": "code",
   "execution_count": null,
   "metadata": {},
   "outputs": [],
   "source": []
  }
 ],
 "metadata": {
  "kernelspec": {
   "display_name": "Python 3",
   "language": "python",
   "name": "python3"
  },
  "language_info": {
   "codemirror_mode": {
    "name": "ipython",
    "version": 3
   },
   "file_extension": ".py",
   "mimetype": "text/x-python",
   "name": "python",
   "nbconvert_exporter": "python",
   "pygments_lexer": "ipython3",
   "version": "3.6.5"
  }
 },
 "nbformat": 4,
 "nbformat_minor": 2
}
